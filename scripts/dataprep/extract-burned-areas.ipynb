{
 "cells": [
  {
   "cell_type": "code",
   "execution_count": 5,
   "id": "24994e2f-d842-4903-a8f1-70b7071367a0",
   "metadata": {},
   "outputs": [],
   "source": [
    "from typing import Dict, Optional\n",
    "import os\n",
    "\n",
    "import geopandas as gpd\n",
    "import matplotlib.pyplot as plt\n",
    "import numpy as np\n",
    "import pandas as pd\n",
    "import xarray as xr\n",
    "\n",
    "from xcube.core.store import new_data_store\n",
    "from xcube.core.select import select_variables_subset"
   ]
  },
  {
   "cell_type": "code",
   "execution_count": 6,
   "id": "8527f2b7-7754-49a0-b8e2-568b15d74200",
   "metadata": {},
   "outputs": [],
   "source": [
    "clip_repo_name = \"clip_05_burning_lands\""
   ]
  },
  {
   "cell_type": "code",
   "execution_count": 7,
   "id": "0bca58db-6679-4b5c-8ad9-c8f2962bb840",
   "metadata": {},
   "outputs": [],
   "source": [
    "from init_nb import ws_path, cliplib\n",
    "clip_dir = ws_path / clip_repo_name\n",
    "clip_data_dir = clip_dir / \"data\"\n",
    "clip_cache_dir = clip_data_dir / \"temp\"\n",
    "if not clip_cache_dir.exists():\n",
    "    clip_cache_dir.mkdir()"
   ]
  },
  {
   "cell_type": "markdown",
   "id": "0e8295fa-e2eb-411d-935a-42ec76d1cbae",
   "metadata": {},
   "source": [
    "Open CCI Open Data Portal store and list contents:"
   ]
  },
  {
   "cell_type": "code",
   "execution_count": 8,
   "id": "33d63c49-a8df-4915-a034-2a0018fa2677",
   "metadata": {},
   "outputs": [],
   "source": [
    "odp_store = new_data_store(\"cciodp\")"
   ]
  },
  {
   "cell_type": "code",
   "execution_count": 9,
   "id": "4bf02e09-5707-40ce-9663-25503ee02c5f",
   "metadata": {},
   "outputs": [],
   "source": [
    "# list(cz_store.get_data_ids())"
   ]
  },
  {
   "cell_type": "markdown",
   "id": "f9159386-e8e8-4ab1-857a-fd3b3dc9ee0e",
   "metadata": {},
   "source": [
    "Open LST dataset"
   ]
  },
  {
   "cell_type": "code",
   "execution_count": 10,
   "id": "3c1990f4-8045-4d67-a892-9018ca964a82",
   "metadata": {},
   "outputs": [
    {
     "name": "stderr",
     "output_type": "stream",
     "text": [
      "/opt/conda/lib/python3.9/site-packages/xcube_cci/cciodp.py:1260: CciOdpWarning: Variable \"vegetation_class_name\" has no fill value, cannot set one. For parts where no data is available you will see random values. This is usually the case when data is missing for a time step.\n",
      "  warnings.warn(f'Variable \"{fixed_key}\" has no fill value, '\n"
     ]
    },
    {
     "data": {
      "application/json": {
       "attrs": {
        "abstract": "The ESA Fire Disturbance Climate Change Initiative (CCI) project has produced maps of global burned area derived from satellite observations. The Sentinel-3 SYN Fire_cci v1.0 grid product described here contains gridded data on global burned area derived from surface reflectance data from the OLCI and SLSTR instruments (combined as the Synergy (SYN) product) onboard the Sentinel-3 A&B satellites, complemented by VIIRS thermal information. This product, called FireCCIS310 for short, is currently available for 2019, but it is foreseen to be extended for additional years.\n\nThis gridded dataset has been derived from the FireCCIS310 pixel product (also available) by summarising its burned area information into a regular grid covering the Earth at 0.25 x 0.25 degrees resolution and at monthly temporal resolution. Information on burned area is included in 22 individual quantities: sum of burned area, standard error, fraction of burnable area, fraction of observed area, and the burned area for 18 land cover classes, as defined by the Copernicus Climate Change Initiative(C3S) Land Cover v2.1.1 product. For further information on the product and its format see the Product User Guide in the linked documentation.",
        "catalog_url": "https://catalogue.ceda.ac.uk/uuid/3aaaaf94813e48f18f2b83242a8dacbe",
        "cci_project": "FIRE",
        "comment": "These data were produced as part of the Climate Change Initiative Programme, Fire Disturbance ECV.",
        "data_type": "BA",
        "ecv": "FIRE",
        "history": "Created on 2022-03-01 17:20:37",
        "institute": "University of Alcala",
        "platform_id": "multi-platform",
        "processing_level": "L4",
        "product_string": "SYN",
        "product_version": "v1-0",
        "project": "Climate Change Initiative - European Space Agency",
        "publication_date": "2022-04-19T15:17:55",
        "references": "See https://climate.esa.int/en/projects/fire/",
        "sensor_id": "multi-sensor",
        "source": "Sentinel-3 Synergy (SYN) product, derived from OLCI+SLSTR Surface Reflectance, VIIRS VNP14IMGML thermal anomalies, C3S Land Cover dataset v2.1.1",
        "title": "ESA Fire Climate Change Initiative (Fire_cci): Sentinel-3 SYN Burned Area Grid product, version 1.0",
        "uuid": "3aaaaf94813e48f18f2b83242a8dacbe"
       },
       "bbox": [
        -180,
        -90,
        180,
        90
       ],
       "coords": {
        "lat": {
         "attrs": {
          "bounds": "lat_bounds",
          "chunk_sizes": [
           720
          ],
          "data_type": "float64",
          "dimensions": [
           "lat"
          ],
          "file_chunk_sizes": [
           720
          ],
          "file_dimensions": [
           "lat"
          ],
          "fill_value": null,
          "long_name": "latitude",
          "orig_data_type": "float64",
          "shape": [
           720
          ],
          "size": 720,
          "standard_name": "latitude",
          "units": "degree_north"
         },
         "dims": [
          "lat"
         ],
         "dtype": "float64",
         "name": "lat"
        },
        "lat_bounds": {
         "attrs": {
          "chunk_sizes": [
           720,
           2
          ],
          "data_type": "float64",
          "dimensions": [
           "lat",
           "bounds"
          ],
          "file_chunk_sizes": [
           720,
           2
          ],
          "file_dimensions": [
           "lat",
           "bounds"
          ],
          "fill_value": null,
          "orig_data_type": "float64",
          "shape": [
           720,
           2
          ],
          "size": 1440
         },
         "dims": [
          "lat",
          "bounds"
         ],
         "dtype": "float64",
         "name": "lat_bounds"
        },
        "lon": {
         "attrs": {
          "bounds": "lon_bounds",
          "chunk_sizes": [
           1440
          ],
          "data_type": "float64",
          "dimensions": [
           "lon"
          ],
          "file_chunk_sizes": [
           1440
          ],
          "file_dimensions": [
           "lon"
          ],
          "fill_value": null,
          "long_name": "longitude",
          "orig_data_type": "float64",
          "shape": [
           1440
          ],
          "size": 1440,
          "standard_name": "longitude",
          "units": "degree_east"
         },
         "dims": [
          "lon"
         ],
         "dtype": "float64",
         "name": "lon"
        },
        "lon_bounds": {
         "attrs": {
          "chunk_sizes": [
           1440,
           2
          ],
          "data_type": "float64",
          "dimensions": [
           "lon",
           "bounds"
          ],
          "file_chunk_sizes": [
           1440,
           2
          ],
          "file_dimensions": [
           "lon",
           "bounds"
          ],
          "fill_value": null,
          "orig_data_type": "float64",
          "shape": [
           1440,
           2
          ],
          "size": 2880
         },
         "dims": [
          "lon",
          "bounds"
         ],
         "dtype": "float64",
         "name": "lon_bounds"
        },
        "time": {
         "attrs": {
          "bounds": "time_bounds",
          "calendar": "standard",
          "chunk_sizes": 1,
          "data_type": "float64",
          "dimensions": [
           "time"
          ],
          "file_chunk_sizes": 1,
          "file_dimensions": [
           "time"
          ],
          "fill_value": null,
          "long_name": "time",
          "orig_data_type": "float64",
          "shape": [
           12
          ],
          "size": 12,
          "standard_name": "time",
          "units": "days since 1970-01-01 00:00:00"
         },
         "dims": [
          "time"
         ],
         "dtype": "float64",
         "name": "time"
        },
        "time_bnds": {
         "attrs": {
          "calendar": "proleptic_gregorian",
          "standard_name": "time_bnds",
          "units": "seconds since 1970-01-01T00:00:00Z"
         },
         "dims": [
          "time",
          "bounds"
         ],
         "dtype": "int64",
         "name": "time_bnds"
        },
        "vegetation_class": {
         "attrs": {
          "chunk_sizes": [
           18
          ],
          "data_type": "int64",
          "dimensions": [
           "vegetation_class"
          ],
          "file_chunk_sizes": [
           18
          ],
          "file_dimensions": [
           "vegetation_class"
          ],
          "fill_value": 9223372036854776000,
          "long_name": "vegetation class number",
          "orig_data_type": "int32",
          "shape": [
           18
          ],
          "size": 18,
          "units": "1"
         },
         "dims": [
          "vegetation_class"
         ],
         "dtype": "int64",
         "name": "vegetation_class"
        }
       },
       "crs": "WGS84",
       "data_id": "esacci.FIRE.mon.L4.BA.multi-sensor.multi-platform.SYN.v1-0.grid",
       "data_type": "dataset",
       "data_vars": {
        "burned_area": {
         "attrs": {
          "cell_methods": "time: sum",
          "chunk_sizes": [
           1,
           45,
           1440
          ],
          "data_type": "float32",
          "dimensions": [
           "time",
           "lat",
           "lon"
          ],
          "file_chunk_sizes": [
           1,
           45,
           1440
          ],
          "file_dimensions": [
           "time",
           "lat",
           "lon"
          ],
          "fill_value": null,
          "long_name": "total burned_area",
          "orig_data_type": "float32",
          "shape": [
           12,
           720,
           1440
          ],
          "size": 12441600,
          "standard_name": "burned_area",
          "units": "m2",
          "valid_range": [
           0,
           769314620
          ]
         },
         "dims": [
          "time",
          "lat",
          "lon"
         ],
         "dtype": "float32",
         "name": "burned_area"
        },
        "burned_area_in_vegetation_class": {
         "attrs": {
          "cell_methods": "time: sum",
          "chunk_sizes": [
           1,
           1,
           45,
           1440
          ],
          "comment": "Burned area by land cover classes; land cover classes are from C3S Land Cover, https://cds.climate.copernicus.eu/cdsapp#!/dataset/satellite-land-cover?tab=overview",
          "data_type": "float32",
          "dimensions": [
           "time",
           "vegetation_class",
           "lat",
           "lon"
          ],
          "file_chunk_sizes": [
           1,
           1,
           45,
           1440
          ],
          "file_dimensions": [
           "time",
           "vegetation_class",
           "lat",
           "lon"
          ],
          "fill_value": null,
          "long_name": "burned area in vegetation class",
          "orig_data_type": "float32",
          "shape": [
           12,
           18,
           720,
           1440
          ],
          "size": 223948800,
          "units": "m2",
          "valid_range": [
           0,
           769314620
          ]
         },
         "dims": [
          "time",
          "vegetation_class",
          "lat",
          "lon"
         ],
         "dtype": "float32",
         "name": "burned_area_in_vegetation_class"
        },
        "crs": {
         "attrs": {
          "chunk_sizes": [
           1
          ],
          "data_type": "int64",
          "dimensions": [],
          "file_chunk_sizes": [
           1
          ],
          "file_dimensions": [],
          "fill_value": 9223372036854776000,
          "i2m": "0.25,0.0,0.0,-0.25,-180.0,90.0",
          "orig_data_type": "int32",
          "shape": [
           1
          ],
          "size": 1,
          "wkt": "GEOGCS[\\\"WGS84(DD)\\\", \n  DATUM[\\\"WGS84\\\", \n    SPHEROID[\\\"WGS84\\\", 6378137.0, 298.257223563]], \n  PRIMEM[\\\"Greenwich\\\", 0.0], \n  UNIT[\\\"degree\\\", 0.017453292519943295], \n  AXIS[\\\"Geodetic longitude\\\", EAST], \n  AXIS[\\\"Geodetic latitude\\\", NORTH]]"
         },
         "dims": [],
         "dtype": "int64",
         "name": "crs"
        },
        "fraction_of_burnable_area": {
         "attrs": {
          "chunk_sizes": [
           1,
           45,
           1440
          ],
          "comment": "The fraction of burnable area is the fraction of the cell that corresponds to vegetated land covers that could burn. The land cover classes are those from C3S Land Cover, https://cds.climate.copernicus.eu/cdsapp#!/dataset/satellite-land-cover?tab=overview",
          "data_type": "float32",
          "dimensions": [
           "time",
           "lat",
           "lon"
          ],
          "file_chunk_sizes": [
           1,
           45,
           1440
          ],
          "file_dimensions": [
           "time",
           "lat",
           "lon"
          ],
          "fill_value": null,
          "long_name": "fraction of burnable area",
          "orig_data_type": "float32",
          "shape": [
           12,
           720,
           1440
          ],
          "size": 12441600,
          "units": "1",
          "valid_range": [
           0,
           1
          ]
         },
         "dims": [
          "time",
          "lat",
          "lon"
         ],
         "dtype": "float32",
         "name": "fraction_of_burnable_area"
        },
        "fraction_of_observed_area": {
         "attrs": {
          "chunk_sizes": [
           1,
           45,
           1440
          ],
          "comment": "The fraction of observed area is the fraction of the total burnable area in the cell (fraction_of_burnable_area variable of this file) that was observed during the time interval, and was not marked as unsuitable/not observable. The latter refers to the area where it was not possible to obtain observational burned area information for the whole time interval because of the lack of input data (non-existing data for that location and period).",
          "data_type": "float32",
          "dimensions": [
           "time",
           "lat",
           "lon"
          ],
          "file_chunk_sizes": [
           1,
           45,
           1440
          ],
          "file_dimensions": [
           "time",
           "lat",
           "lon"
          ],
          "fill_value": null,
          "long_name": "fraction of observed area",
          "orig_data_type": "float32",
          "shape": [
           12,
           720,
           1440
          ],
          "size": 12441600,
          "units": "1",
          "valid_range": [
           0,
           1
          ]
         },
         "dims": [
          "time",
          "lat",
          "lon"
         ],
         "dtype": "float32",
         "name": "fraction_of_observed_area"
        },
        "standard_error": {
         "attrs": {
          "chunk_sizes": [
           1,
           45,
           1440
          ],
          "data_type": "float32",
          "dimensions": [
           "time",
           "lat",
           "lon"
          ],
          "file_chunk_sizes": [
           1,
           45,
           1440
          ],
          "file_dimensions": [
           "time",
           "lat",
           "lon"
          ],
          "fill_value": null,
          "long_name": "standard error of the estimation of burned area",
          "orig_data_type": "float32",
          "shape": [
           12,
           720,
           1440
          ],
          "size": 12441600,
          "units": "m2",
          "valid_range": [
           0,
           769314620
          ]
         },
         "dims": [
          "time",
          "lat",
          "lon"
         ],
         "dtype": "float32",
         "name": "standard_error"
        }
       },
       "dims": {
        "bounds": 2,
        "lat": 720,
        "lon": 1440,
        "time": 12,
        "vegetation_class": 18
       },
       "open_params_schema": {
        "additionalProperties": false,
        "properties": {
         "bbox": {
          "items": [
           {
            "maximum": 180,
            "minimum": -180,
            "type": "number"
           },
           {
            "maximum": 90,
            "minimum": -90,
            "type": "number"
           },
           {
            "maximum": 180,
            "minimum": -180,
            "type": "number"
           },
           {
            "maximum": 90,
            "minimum": -90,
            "type": "number"
           }
          ],
          "type": "array"
         },
         "normalize_data": {
          "default": true,
          "type": "boolean"
         },
         "time_range": {
          "items": [
           {
            "format": "date",
            "maxDate": "2019-12-31",
            "minDate": "2019-01-01",
            "type": "string"
           },
           {
            "format": "date",
            "maxDate": "2019-12-31",
            "minDate": "2019-01-01",
            "type": "string"
           }
          ],
          "type": "array"
         },
         "variable_names": {
          "items": {
           "enum": [
            "burned_area",
            "standard_error",
            "fraction_of_burnable_area",
            "fraction_of_observed_area",
            "burned_area_in_vegetation_class",
            "crs"
           ],
           "type": "string"
          },
          "type": "array"
         }
        },
        "type": "object"
       },
       "spatial_res": 0.25,
       "time_period": "1M",
       "time_range": [
        "2019-01-01",
        "2019-12-31"
       ]
      },
      "text/plain": [
       "<xcube.core.store.descriptor.DatasetDescriptor at 0x7f8436b6b7f0>"
      ]
     },
     "execution_count": 10,
     "metadata": {},
     "output_type": "execute_result"
    }
   ],
   "source": [
    "odp_store.describe_data('esacci.FIRE.mon.L4.BA.multi-sensor.multi-platform.SYN.v1-0.grid')"
   ]
  },
  {
   "cell_type": "code",
   "execution_count": 11,
   "id": "d703bd4a-7485-4078-a52d-d36e30cce371",
   "metadata": {},
   "outputs": [
    {
     "data": {
      "application/json": {
       "additionalProperties": false,
       "properties": {
        "normalize_data": {
         "default": true,
         "type": "boolean"
        },
        "time_range": {
         "items": [
          {
           "format": "date",
           "type": "string"
          },
          {
           "format": "date",
           "type": "string"
          }
         ],
         "type": "array"
        },
        "variable_names": {
         "items": {
          "type": "string"
         },
         "type": "array"
        }
       },
       "type": "object"
      },
      "text/plain": [
       "<xcube.util.jsonschema.JsonObjectSchema at 0x7f8436b83cd0>"
      ]
     },
     "execution_count": 11,
     "metadata": {},
     "output_type": "execute_result"
    }
   ],
   "source": [
    "odp_store.get_open_data_params_schema()"
   ]
  },
  {
   "cell_type": "code",
   "execution_count": 14,
   "id": "7583d442-2345-4e32-ad45-549df5b09f3c",
   "metadata": {},
   "outputs": [
    {
     "data": {
      "text/html": [
       "<div><svg style=\"position: absolute; width: 0; height: 0; overflow: hidden\">\n",
       "<defs>\n",
       "<symbol id=\"icon-database\" viewBox=\"0 0 32 32\">\n",
       "<path d=\"M16 0c-8.837 0-16 2.239-16 5v4c0 2.761 7.163 5 16 5s16-2.239 16-5v-4c0-2.761-7.163-5-16-5z\"></path>\n",
       "<path d=\"M16 17c-8.837 0-16-2.239-16-5v6c0 2.761 7.163 5 16 5s16-2.239 16-5v-6c0 2.761-7.163 5-16 5z\"></path>\n",
       "<path d=\"M16 26c-8.837 0-16-2.239-16-5v6c0 2.761 7.163 5 16 5s16-2.239 16-5v-6c0 2.761-7.163 5-16 5z\"></path>\n",
       "</symbol>\n",
       "<symbol id=\"icon-file-text2\" viewBox=\"0 0 32 32\">\n",
       "<path d=\"M28.681 7.159c-0.694-0.947-1.662-2.053-2.724-3.116s-2.169-2.030-3.116-2.724c-1.612-1.182-2.393-1.319-2.841-1.319h-15.5c-1.378 0-2.5 1.121-2.5 2.5v27c0 1.378 1.122 2.5 2.5 2.5h23c1.378 0 2.5-1.122 2.5-2.5v-19.5c0-0.448-0.137-1.23-1.319-2.841zM24.543 5.457c0.959 0.959 1.712 1.825 2.268 2.543h-4.811v-4.811c0.718 0.556 1.584 1.309 2.543 2.268zM28 29.5c0 0.271-0.229 0.5-0.5 0.5h-23c-0.271 0-0.5-0.229-0.5-0.5v-27c0-0.271 0.229-0.5 0.5-0.5 0 0 15.499-0 15.5 0v7c0 0.552 0.448 1 1 1h7v19.5z\"></path>\n",
       "<path d=\"M23 26h-14c-0.552 0-1-0.448-1-1s0.448-1 1-1h14c0.552 0 1 0.448 1 1s-0.448 1-1 1z\"></path>\n",
       "<path d=\"M23 22h-14c-0.552 0-1-0.448-1-1s0.448-1 1-1h14c0.552 0 1 0.448 1 1s-0.448 1-1 1z\"></path>\n",
       "<path d=\"M23 18h-14c-0.552 0-1-0.448-1-1s0.448-1 1-1h14c0.552 0 1 0.448 1 1s-0.448 1-1 1z\"></path>\n",
       "</symbol>\n",
       "</defs>\n",
       "</svg>\n",
       "<style>/* CSS stylesheet for displaying xarray objects in jupyterlab.\n",
       " *\n",
       " */\n",
       "\n",
       ":root {\n",
       "  --xr-font-color0: var(--jp-content-font-color0, rgba(0, 0, 0, 1));\n",
       "  --xr-font-color2: var(--jp-content-font-color2, rgba(0, 0, 0, 0.54));\n",
       "  --xr-font-color3: var(--jp-content-font-color3, rgba(0, 0, 0, 0.38));\n",
       "  --xr-border-color: var(--jp-border-color2, #e0e0e0);\n",
       "  --xr-disabled-color: var(--jp-layout-color3, #bdbdbd);\n",
       "  --xr-background-color: var(--jp-layout-color0, white);\n",
       "  --xr-background-color-row-even: var(--jp-layout-color1, white);\n",
       "  --xr-background-color-row-odd: var(--jp-layout-color2, #eeeeee);\n",
       "}\n",
       "\n",
       "html[theme=dark],\n",
       "body[data-theme=dark],\n",
       "body.vscode-dark {\n",
       "  --xr-font-color0: rgba(255, 255, 255, 1);\n",
       "  --xr-font-color2: rgba(255, 255, 255, 0.54);\n",
       "  --xr-font-color3: rgba(255, 255, 255, 0.38);\n",
       "  --xr-border-color: #1F1F1F;\n",
       "  --xr-disabled-color: #515151;\n",
       "  --xr-background-color: #111111;\n",
       "  --xr-background-color-row-even: #111111;\n",
       "  --xr-background-color-row-odd: #313131;\n",
       "}\n",
       "\n",
       ".xr-wrap {\n",
       "  display: block !important;\n",
       "  min-width: 300px;\n",
       "  max-width: 700px;\n",
       "}\n",
       "\n",
       ".xr-text-repr-fallback {\n",
       "  /* fallback to plain text repr when CSS is not injected (untrusted notebook) */\n",
       "  display: none;\n",
       "}\n",
       "\n",
       ".xr-header {\n",
       "  padding-top: 6px;\n",
       "  padding-bottom: 6px;\n",
       "  margin-bottom: 4px;\n",
       "  border-bottom: solid 1px var(--xr-border-color);\n",
       "}\n",
       "\n",
       ".xr-header > div,\n",
       ".xr-header > ul {\n",
       "  display: inline;\n",
       "  margin-top: 0;\n",
       "  margin-bottom: 0;\n",
       "}\n",
       "\n",
       ".xr-obj-type,\n",
       ".xr-array-name {\n",
       "  margin-left: 2px;\n",
       "  margin-right: 10px;\n",
       "}\n",
       "\n",
       ".xr-obj-type {\n",
       "  color: var(--xr-font-color2);\n",
       "}\n",
       "\n",
       ".xr-sections {\n",
       "  padding-left: 0 !important;\n",
       "  display: grid;\n",
       "  grid-template-columns: 150px auto auto 1fr 20px 20px;\n",
       "}\n",
       "\n",
       ".xr-section-item {\n",
       "  display: contents;\n",
       "}\n",
       "\n",
       ".xr-section-item input {\n",
       "  display: none;\n",
       "}\n",
       "\n",
       ".xr-section-item input + label {\n",
       "  color: var(--xr-disabled-color);\n",
       "}\n",
       "\n",
       ".xr-section-item input:enabled + label {\n",
       "  cursor: pointer;\n",
       "  color: var(--xr-font-color2);\n",
       "}\n",
       "\n",
       ".xr-section-item input:enabled + label:hover {\n",
       "  color: var(--xr-font-color0);\n",
       "}\n",
       "\n",
       ".xr-section-summary {\n",
       "  grid-column: 1;\n",
       "  color: var(--xr-font-color2);\n",
       "  font-weight: 500;\n",
       "}\n",
       "\n",
       ".xr-section-summary > span {\n",
       "  display: inline-block;\n",
       "  padding-left: 0.5em;\n",
       "}\n",
       "\n",
       ".xr-section-summary-in:disabled + label {\n",
       "  color: var(--xr-font-color2);\n",
       "}\n",
       "\n",
       ".xr-section-summary-in + label:before {\n",
       "  display: inline-block;\n",
       "  content: '►';\n",
       "  font-size: 11px;\n",
       "  width: 15px;\n",
       "  text-align: center;\n",
       "}\n",
       "\n",
       ".xr-section-summary-in:disabled + label:before {\n",
       "  color: var(--xr-disabled-color);\n",
       "}\n",
       "\n",
       ".xr-section-summary-in:checked + label:before {\n",
       "  content: '▼';\n",
       "}\n",
       "\n",
       ".xr-section-summary-in:checked + label > span {\n",
       "  display: none;\n",
       "}\n",
       "\n",
       ".xr-section-summary,\n",
       ".xr-section-inline-details {\n",
       "  padding-top: 4px;\n",
       "  padding-bottom: 4px;\n",
       "}\n",
       "\n",
       ".xr-section-inline-details {\n",
       "  grid-column: 2 / -1;\n",
       "}\n",
       "\n",
       ".xr-section-details {\n",
       "  display: none;\n",
       "  grid-column: 1 / -1;\n",
       "  margin-bottom: 5px;\n",
       "}\n",
       "\n",
       ".xr-section-summary-in:checked ~ .xr-section-details {\n",
       "  display: contents;\n",
       "}\n",
       "\n",
       ".xr-array-wrap {\n",
       "  grid-column: 1 / -1;\n",
       "  display: grid;\n",
       "  grid-template-columns: 20px auto;\n",
       "}\n",
       "\n",
       ".xr-array-wrap > label {\n",
       "  grid-column: 1;\n",
       "  vertical-align: top;\n",
       "}\n",
       "\n",
       ".xr-preview {\n",
       "  color: var(--xr-font-color3);\n",
       "}\n",
       "\n",
       ".xr-array-preview,\n",
       ".xr-array-data {\n",
       "  padding: 0 5px !important;\n",
       "  grid-column: 2;\n",
       "}\n",
       "\n",
       ".xr-array-data,\n",
       ".xr-array-in:checked ~ .xr-array-preview {\n",
       "  display: none;\n",
       "}\n",
       "\n",
       ".xr-array-in:checked ~ .xr-array-data,\n",
       ".xr-array-preview {\n",
       "  display: inline-block;\n",
       "}\n",
       "\n",
       ".xr-dim-list {\n",
       "  display: inline-block !important;\n",
       "  list-style: none;\n",
       "  padding: 0 !important;\n",
       "  margin: 0;\n",
       "}\n",
       "\n",
       ".xr-dim-list li {\n",
       "  display: inline-block;\n",
       "  padding: 0;\n",
       "  margin: 0;\n",
       "}\n",
       "\n",
       ".xr-dim-list:before {\n",
       "  content: '(';\n",
       "}\n",
       "\n",
       ".xr-dim-list:after {\n",
       "  content: ')';\n",
       "}\n",
       "\n",
       ".xr-dim-list li:not(:last-child):after {\n",
       "  content: ',';\n",
       "  padding-right: 5px;\n",
       "}\n",
       "\n",
       ".xr-has-index {\n",
       "  font-weight: bold;\n",
       "}\n",
       "\n",
       ".xr-var-list,\n",
       ".xr-var-item {\n",
       "  display: contents;\n",
       "}\n",
       "\n",
       ".xr-var-item > div,\n",
       ".xr-var-item label,\n",
       ".xr-var-item > .xr-var-name span {\n",
       "  background-color: var(--xr-background-color-row-even);\n",
       "  margin-bottom: 0;\n",
       "}\n",
       "\n",
       ".xr-var-item > .xr-var-name:hover span {\n",
       "  padding-right: 5px;\n",
       "}\n",
       "\n",
       ".xr-var-list > li:nth-child(odd) > div,\n",
       ".xr-var-list > li:nth-child(odd) > label,\n",
       ".xr-var-list > li:nth-child(odd) > .xr-var-name span {\n",
       "  background-color: var(--xr-background-color-row-odd);\n",
       "}\n",
       "\n",
       ".xr-var-name {\n",
       "  grid-column: 1;\n",
       "}\n",
       "\n",
       ".xr-var-dims {\n",
       "  grid-column: 2;\n",
       "}\n",
       "\n",
       ".xr-var-dtype {\n",
       "  grid-column: 3;\n",
       "  text-align: right;\n",
       "  color: var(--xr-font-color2);\n",
       "}\n",
       "\n",
       ".xr-var-preview {\n",
       "  grid-column: 4;\n",
       "}\n",
       "\n",
       ".xr-index-preview {\n",
       "  grid-column: 2 / 5;\n",
       "  color: var(--xr-font-color2);\n",
       "}\n",
       "\n",
       ".xr-var-name,\n",
       ".xr-var-dims,\n",
       ".xr-var-dtype,\n",
       ".xr-preview,\n",
       ".xr-attrs dt {\n",
       "  white-space: nowrap;\n",
       "  overflow: hidden;\n",
       "  text-overflow: ellipsis;\n",
       "  padding-right: 10px;\n",
       "}\n",
       "\n",
       ".xr-var-name:hover,\n",
       ".xr-var-dims:hover,\n",
       ".xr-var-dtype:hover,\n",
       ".xr-attrs dt:hover {\n",
       "  overflow: visible;\n",
       "  width: auto;\n",
       "  z-index: 1;\n",
       "}\n",
       "\n",
       ".xr-var-attrs,\n",
       ".xr-var-data,\n",
       ".xr-index-data {\n",
       "  display: none;\n",
       "  background-color: var(--xr-background-color) !important;\n",
       "  padding-bottom: 5px !important;\n",
       "}\n",
       "\n",
       ".xr-var-attrs-in:checked ~ .xr-var-attrs,\n",
       ".xr-var-data-in:checked ~ .xr-var-data,\n",
       ".xr-index-data-in:checked ~ .xr-index-data {\n",
       "  display: block;\n",
       "}\n",
       "\n",
       ".xr-var-data > table {\n",
       "  float: right;\n",
       "}\n",
       "\n",
       ".xr-var-name span,\n",
       ".xr-var-data,\n",
       ".xr-index-name div,\n",
       ".xr-index-data,\n",
       ".xr-attrs {\n",
       "  padding-left: 25px !important;\n",
       "}\n",
       "\n",
       ".xr-attrs,\n",
       ".xr-var-attrs,\n",
       ".xr-var-data,\n",
       ".xr-index-data {\n",
       "  grid-column: 1 / -1;\n",
       "}\n",
       "\n",
       "dl.xr-attrs {\n",
       "  padding: 0;\n",
       "  margin: 0;\n",
       "  display: grid;\n",
       "  grid-template-columns: 125px auto;\n",
       "}\n",
       "\n",
       ".xr-attrs dt,\n",
       ".xr-attrs dd {\n",
       "  padding: 0;\n",
       "  margin: 0;\n",
       "  float: left;\n",
       "  padding-right: 10px;\n",
       "  width: auto;\n",
       "}\n",
       "\n",
       ".xr-attrs dt {\n",
       "  font-weight: normal;\n",
       "  grid-column: 1;\n",
       "}\n",
       "\n",
       ".xr-attrs dt:hover span {\n",
       "  display: inline-block;\n",
       "  background: var(--xr-background-color);\n",
       "  padding-right: 10px;\n",
       "}\n",
       "\n",
       ".xr-attrs dd {\n",
       "  grid-column: 2;\n",
       "  white-space: pre-wrap;\n",
       "  word-break: break-all;\n",
       "}\n",
       "\n",
       ".xr-icon-database,\n",
       ".xr-icon-file-text2,\n",
       ".xr-no-icon {\n",
       "  display: inline-block;\n",
       "  vertical-align: middle;\n",
       "  width: 1em;\n",
       "  height: 1.5em !important;\n",
       "  stroke-width: 0;\n",
       "  stroke: currentColor;\n",
       "  fill: currentColor;\n",
       "}\n",
       "</style><pre class='xr-text-repr-fallback'>&lt;xarray.Dataset&gt;\n",
       "Dimensions:           (time: 12, lat: 720, lon: 1440, bounds: 2, bnds: 2,\n",
       "                       vegetation_class: 18)\n",
       "Coordinates:\n",
       "  * lat               (lat) float64 89.88 89.62 89.38 ... -89.38 -89.62 -89.88\n",
       "    lat_bounds        (lat, bounds) float64 dask.array&lt;chunksize=(720, 2), meta=np.ndarray&gt;\n",
       "  * lon               (lon) float64 -179.9 -179.6 -179.4 ... 179.4 179.6 179.9\n",
       "    lon_bounds        (lon, bounds) float64 dask.array&lt;chunksize=(1440, 2), meta=np.ndarray&gt;\n",
       "  * time              (time) datetime64[ns] 2019-01-16T12:00:00 ... 2019-12-1...\n",
       "    time_bnds         (time, bnds) datetime64[ns] dask.array&lt;chunksize=(12, 2), meta=np.ndarray&gt;\n",
       "  * vegetation_class  (vegetation_class) int32 10 20 30 40 ... 150 160 170 180\n",
       "Dimensions without coordinates: bounds, bnds\n",
       "Data variables:\n",
       "    burned_area       (time, lat, lon) float32 dask.array&lt;chunksize=(1, 360, 1440), meta=np.ndarray&gt;\n",
       "Attributes:\n",
       "    Conventions:             CF-1.7\n",
       "    title:                   esacci.FIRE.mon.L4.BA.multi-sensor.multi-platfor...\n",
       "    date_created:            2023-01-19T16:47:00.186142\n",
       "    processing_level:        L4\n",
       "    time_coverage_start:     2019-01-01T00:00:00\n",
       "    time_coverage_end:       2020-01-01T00:00:00\n",
       "    time_coverage_duration:  P365DT0H0M0S\n",
       "    history:                 [{&#x27;program&#x27;: &#x27;xcube_cci.chunkstore.CciChunkStore...</pre><div class='xr-wrap' style='display:none'><div class='xr-header'><div class='xr-obj-type'>xarray.Dataset</div></div><ul class='xr-sections'><li class='xr-section-item'><input id='section-79a7b75c-51c4-4831-9060-33780ef8d1df' class='xr-section-summary-in' type='checkbox' disabled ><label for='section-79a7b75c-51c4-4831-9060-33780ef8d1df' class='xr-section-summary'  title='Expand/collapse section'>Dimensions:</label><div class='xr-section-inline-details'><ul class='xr-dim-list'><li><span class='xr-has-index'>time</span>: 12</li><li><span class='xr-has-index'>lat</span>: 720</li><li><span class='xr-has-index'>lon</span>: 1440</li><li><span>bounds</span>: 2</li><li><span>bnds</span>: 2</li><li><span class='xr-has-index'>vegetation_class</span>: 18</li></ul></div><div class='xr-section-details'></div></li><li class='xr-section-item'><input id='section-299aa316-aeff-48ec-80d4-f1fe0d0b62cc' class='xr-section-summary-in' type='checkbox'  checked><label for='section-299aa316-aeff-48ec-80d4-f1fe0d0b62cc' class='xr-section-summary' >Coordinates: <span>(7)</span></label><div class='xr-section-inline-details'></div><div class='xr-section-details'><ul class='xr-var-list'><li class='xr-var-item'><div class='xr-var-name'><span class='xr-has-index'>lat</span></div><div class='xr-var-dims'>(lat)</div><div class='xr-var-dtype'>float64</div><div class='xr-var-preview xr-preview'>89.88 89.62 89.38 ... -89.62 -89.88</div><input id='attrs-3dda2c7f-7f96-450b-b51b-a8099758d3fe' class='xr-var-attrs-in' type='checkbox' ><label for='attrs-3dda2c7f-7f96-450b-b51b-a8099758d3fe' title='Show/Hide attributes'><svg class='icon xr-icon-file-text2'><use xlink:href='#icon-file-text2'></use></svg></label><input id='data-53a3d45d-45ae-40b4-9152-b967cc7ca0df' class='xr-var-data-in' type='checkbox'><label for='data-53a3d45d-45ae-40b4-9152-b967cc7ca0df' title='Show/Hide data repr'><svg class='icon xr-icon-database'><use xlink:href='#icon-database'></use></svg></label><div class='xr-var-attrs'><dl class='xr-attrs'><dt><span>units :</span></dt><dd>degree_north</dd><dt><span>standard_name :</span></dt><dd>latitude</dd><dt><span>long_name :</span></dt><dd>latitude</dd><dt><span>bounds :</span></dt><dd>lat_bounds</dd><dt><span>orig_data_type :</span></dt><dd>float64</dd><dt><span>fill_value :</span></dt><dd>nan</dd><dt><span>size :</span></dt><dd>720</dd><dt><span>shape :</span></dt><dd>[720]</dd><dt><span>chunk_sizes :</span></dt><dd>[720]</dd><dt><span>file_chunk_sizes :</span></dt><dd>[720]</dd><dt><span>data_type :</span></dt><dd>float64</dd><dt><span>dimensions :</span></dt><dd>[&#x27;lat&#x27;]</dd><dt><span>file_dimensions :</span></dt><dd>[&#x27;lat&#x27;]</dd></dl></div><div class='xr-var-data'><pre>array([ 89.875,  89.625,  89.375, ..., -89.375, -89.625, -89.875])</pre></div></li><li class='xr-var-item'><div class='xr-var-name'><span>lat_bounds</span></div><div class='xr-var-dims'>(lat, bounds)</div><div class='xr-var-dtype'>float64</div><div class='xr-var-preview xr-preview'>dask.array&lt;chunksize=(720, 2), meta=np.ndarray&gt;</div><input id='attrs-261e8a4c-716d-490c-a314-4d4086934b36' class='xr-var-attrs-in' type='checkbox' ><label for='attrs-261e8a4c-716d-490c-a314-4d4086934b36' title='Show/Hide attributes'><svg class='icon xr-icon-file-text2'><use xlink:href='#icon-file-text2'></use></svg></label><input id='data-22ce825e-10a2-4876-8c5a-07922f26e2e4' class='xr-var-data-in' type='checkbox'><label for='data-22ce825e-10a2-4876-8c5a-07922f26e2e4' title='Show/Hide data repr'><svg class='icon xr-icon-database'><use xlink:href='#icon-database'></use></svg></label><div class='xr-var-attrs'><dl class='xr-attrs'><dt><span>orig_data_type :</span></dt><dd>float64</dd><dt><span>fill_value :</span></dt><dd>nan</dd><dt><span>size :</span></dt><dd>1440</dd><dt><span>shape :</span></dt><dd>[720, 2]</dd><dt><span>chunk_sizes :</span></dt><dd>[720, 2]</dd><dt><span>file_chunk_sizes :</span></dt><dd>[720, 2]</dd><dt><span>data_type :</span></dt><dd>float64</dd><dt><span>dimensions :</span></dt><dd>[&#x27;lat&#x27;, &#x27;bounds&#x27;]</dd><dt><span>file_dimensions :</span></dt><dd>[&#x27;lat&#x27;, &#x27;bounds&#x27;]</dd></dl></div><div class='xr-var-data'><table>\n",
       "    <tr>\n",
       "        <td>\n",
       "            <table style=\"border-collapse: collapse;\">\n",
       "                <thead>\n",
       "                    <tr>\n",
       "                        <td> </td>\n",
       "                        <th> Array </th>\n",
       "                        <th> Chunk </th>\n",
       "                    </tr>\n",
       "                </thead>\n",
       "                <tbody>\n",
       "                    \n",
       "                    <tr>\n",
       "                        <th> Bytes </th>\n",
       "                        <td> 11.25 kiB </td>\n",
       "                        <td> 11.25 kiB </td>\n",
       "                    </tr>\n",
       "                    \n",
       "                    <tr>\n",
       "                        <th> Shape </th>\n",
       "                        <td> (720, 2) </td>\n",
       "                        <td> (720, 2) </td>\n",
       "                    </tr>\n",
       "                    <tr>\n",
       "                        <th> Dask graph </th>\n",
       "                        <td colspan=\"2\"> 1 chunks in 2 graph layers </td>\n",
       "                    </tr>\n",
       "                    <tr>\n",
       "                        <th> Data type </th>\n",
       "                        <td colspan=\"2\"> float64 numpy.ndarray </td>\n",
       "                    </tr>\n",
       "                </tbody>\n",
       "            </table>\n",
       "        </td>\n",
       "        <td>\n",
       "        <svg width=\"75\" height=\"170\" style=\"stroke:rgb(0,0,0);stroke-width:1\" >\n",
       "\n",
       "  <!-- Horizontal lines -->\n",
       "  <line x1=\"0\" y1=\"0\" x2=\"25\" y2=\"0\" style=\"stroke-width:2\" />\n",
       "  <line x1=\"0\" y1=\"120\" x2=\"25\" y2=\"120\" style=\"stroke-width:2\" />\n",
       "\n",
       "  <!-- Vertical lines -->\n",
       "  <line x1=\"0\" y1=\"0\" x2=\"0\" y2=\"120\" style=\"stroke-width:2\" />\n",
       "  <line x1=\"25\" y1=\"0\" x2=\"25\" y2=\"120\" style=\"stroke-width:2\" />\n",
       "\n",
       "  <!-- Colored Rectangle -->\n",
       "  <polygon points=\"0.0,0.0 25.412616514582485,0.0 25.412616514582485,120.0 0.0,120.0\" style=\"fill:#ECB172A0;stroke-width:0\"/>\n",
       "\n",
       "  <!-- Text -->\n",
       "  <text x=\"12.706308\" y=\"140.000000\" font-size=\"1.0rem\" font-weight=\"100\" text-anchor=\"middle\" >2</text>\n",
       "  <text x=\"45.412617\" y=\"60.000000\" font-size=\"1.0rem\" font-weight=\"100\" text-anchor=\"middle\" transform=\"rotate(-90,45.412617,60.000000)\">720</text>\n",
       "</svg>\n",
       "        </td>\n",
       "    </tr>\n",
       "</table></div></li><li class='xr-var-item'><div class='xr-var-name'><span class='xr-has-index'>lon</span></div><div class='xr-var-dims'>(lon)</div><div class='xr-var-dtype'>float64</div><div class='xr-var-preview xr-preview'>-179.9 -179.6 ... 179.6 179.9</div><input id='attrs-e9038e07-2a48-4717-b15f-78b88d3ae488' class='xr-var-attrs-in' type='checkbox' ><label for='attrs-e9038e07-2a48-4717-b15f-78b88d3ae488' title='Show/Hide attributes'><svg class='icon xr-icon-file-text2'><use xlink:href='#icon-file-text2'></use></svg></label><input id='data-6c87035b-03d3-46b6-b57c-a60267679f15' class='xr-var-data-in' type='checkbox'><label for='data-6c87035b-03d3-46b6-b57c-a60267679f15' title='Show/Hide data repr'><svg class='icon xr-icon-database'><use xlink:href='#icon-database'></use></svg></label><div class='xr-var-attrs'><dl class='xr-attrs'><dt><span>units :</span></dt><dd>degree_east</dd><dt><span>standard_name :</span></dt><dd>longitude</dd><dt><span>long_name :</span></dt><dd>longitude</dd><dt><span>bounds :</span></dt><dd>lon_bounds</dd><dt><span>orig_data_type :</span></dt><dd>float64</dd><dt><span>fill_value :</span></dt><dd>nan</dd><dt><span>size :</span></dt><dd>1440</dd><dt><span>shape :</span></dt><dd>[1440]</dd><dt><span>chunk_sizes :</span></dt><dd>[1440]</dd><dt><span>file_chunk_sizes :</span></dt><dd>[1440]</dd><dt><span>data_type :</span></dt><dd>float64</dd><dt><span>dimensions :</span></dt><dd>[&#x27;lon&#x27;]</dd><dt><span>file_dimensions :</span></dt><dd>[&#x27;lon&#x27;]</dd></dl></div><div class='xr-var-data'><pre>array([-179.875, -179.625, -179.375, ...,  179.375,  179.625,  179.875])</pre></div></li><li class='xr-var-item'><div class='xr-var-name'><span>lon_bounds</span></div><div class='xr-var-dims'>(lon, bounds)</div><div class='xr-var-dtype'>float64</div><div class='xr-var-preview xr-preview'>dask.array&lt;chunksize=(1440, 2), meta=np.ndarray&gt;</div><input id='attrs-2cbc5ef1-07cd-43eb-92dc-97096feb4747' class='xr-var-attrs-in' type='checkbox' ><label for='attrs-2cbc5ef1-07cd-43eb-92dc-97096feb4747' title='Show/Hide attributes'><svg class='icon xr-icon-file-text2'><use xlink:href='#icon-file-text2'></use></svg></label><input id='data-69cdecdf-133d-42a6-baff-f03226529474' class='xr-var-data-in' type='checkbox'><label for='data-69cdecdf-133d-42a6-baff-f03226529474' title='Show/Hide data repr'><svg class='icon xr-icon-database'><use xlink:href='#icon-database'></use></svg></label><div class='xr-var-attrs'><dl class='xr-attrs'><dt><span>orig_data_type :</span></dt><dd>float64</dd><dt><span>fill_value :</span></dt><dd>nan</dd><dt><span>size :</span></dt><dd>2880</dd><dt><span>shape :</span></dt><dd>[1440, 2]</dd><dt><span>chunk_sizes :</span></dt><dd>[1440, 2]</dd><dt><span>file_chunk_sizes :</span></dt><dd>[1440, 2]</dd><dt><span>data_type :</span></dt><dd>float64</dd><dt><span>dimensions :</span></dt><dd>[&#x27;lon&#x27;, &#x27;bounds&#x27;]</dd><dt><span>file_dimensions :</span></dt><dd>[&#x27;lon&#x27;, &#x27;bounds&#x27;]</dd></dl></div><div class='xr-var-data'><table>\n",
       "    <tr>\n",
       "        <td>\n",
       "            <table style=\"border-collapse: collapse;\">\n",
       "                <thead>\n",
       "                    <tr>\n",
       "                        <td> </td>\n",
       "                        <th> Array </th>\n",
       "                        <th> Chunk </th>\n",
       "                    </tr>\n",
       "                </thead>\n",
       "                <tbody>\n",
       "                    \n",
       "                    <tr>\n",
       "                        <th> Bytes </th>\n",
       "                        <td> 22.50 kiB </td>\n",
       "                        <td> 22.50 kiB </td>\n",
       "                    </tr>\n",
       "                    \n",
       "                    <tr>\n",
       "                        <th> Shape </th>\n",
       "                        <td> (1440, 2) </td>\n",
       "                        <td> (1440, 2) </td>\n",
       "                    </tr>\n",
       "                    <tr>\n",
       "                        <th> Dask graph </th>\n",
       "                        <td colspan=\"2\"> 1 chunks in 2 graph layers </td>\n",
       "                    </tr>\n",
       "                    <tr>\n",
       "                        <th> Data type </th>\n",
       "                        <td colspan=\"2\"> float64 numpy.ndarray </td>\n",
       "                    </tr>\n",
       "                </tbody>\n",
       "            </table>\n",
       "        </td>\n",
       "        <td>\n",
       "        <svg width=\"75\" height=\"170\" style=\"stroke:rgb(0,0,0);stroke-width:1\" >\n",
       "\n",
       "  <!-- Horizontal lines -->\n",
       "  <line x1=\"0\" y1=\"0\" x2=\"25\" y2=\"0\" style=\"stroke-width:2\" />\n",
       "  <line x1=\"0\" y1=\"120\" x2=\"25\" y2=\"120\" style=\"stroke-width:2\" />\n",
       "\n",
       "  <!-- Vertical lines -->\n",
       "  <line x1=\"0\" y1=\"0\" x2=\"0\" y2=\"120\" style=\"stroke-width:2\" />\n",
       "  <line x1=\"25\" y1=\"0\" x2=\"25\" y2=\"120\" style=\"stroke-width:2\" />\n",
       "\n",
       "  <!-- Colored Rectangle -->\n",
       "  <polygon points=\"0.0,0.0 25.412616514582485,0.0 25.412616514582485,120.0 0.0,120.0\" style=\"fill:#ECB172A0;stroke-width:0\"/>\n",
       "\n",
       "  <!-- Text -->\n",
       "  <text x=\"12.706308\" y=\"140.000000\" font-size=\"1.0rem\" font-weight=\"100\" text-anchor=\"middle\" >2</text>\n",
       "  <text x=\"45.412617\" y=\"60.000000\" font-size=\"1.0rem\" font-weight=\"100\" text-anchor=\"middle\" transform=\"rotate(-90,45.412617,60.000000)\">1440</text>\n",
       "</svg>\n",
       "        </td>\n",
       "    </tr>\n",
       "</table></div></li><li class='xr-var-item'><div class='xr-var-name'><span class='xr-has-index'>time</span></div><div class='xr-var-dims'>(time)</div><div class='xr-var-dtype'>datetime64[ns]</div><div class='xr-var-preview xr-preview'>2019-01-16T12:00:00 ... 2019-12-...</div><input id='attrs-6f513881-ad73-4796-87cf-be3bdd754d2e' class='xr-var-attrs-in' type='checkbox' ><label for='attrs-6f513881-ad73-4796-87cf-be3bdd754d2e' title='Show/Hide attributes'><svg class='icon xr-icon-file-text2'><use xlink:href='#icon-file-text2'></use></svg></label><input id='data-b2b3c692-ebf0-4f34-81f9-33fd3780ba02' class='xr-var-data-in' type='checkbox'><label for='data-b2b3c692-ebf0-4f34-81f9-33fd3780ba02' title='Show/Hide data repr'><svg class='icon xr-icon-database'><use xlink:href='#icon-database'></use></svg></label><div class='xr-var-attrs'><dl class='xr-attrs'><dt><span>standard_name :</span></dt><dd>time</dd><dt><span>bounds :</span></dt><dd>time_bnds</dd></dl></div><div class='xr-var-data'><pre>array([&#x27;2019-01-16T12:00:00.000000000&#x27;, &#x27;2019-02-15T00:00:00.000000000&#x27;,\n",
       "       &#x27;2019-03-16T12:00:00.000000000&#x27;, &#x27;2019-04-16T00:00:00.000000000&#x27;,\n",
       "       &#x27;2019-05-16T12:00:00.000000000&#x27;, &#x27;2019-06-16T00:00:00.000000000&#x27;,\n",
       "       &#x27;2019-07-16T12:00:00.000000000&#x27;, &#x27;2019-08-16T12:00:00.000000000&#x27;,\n",
       "       &#x27;2019-09-16T00:00:00.000000000&#x27;, &#x27;2019-10-16T12:00:00.000000000&#x27;,\n",
       "       &#x27;2019-11-16T00:00:00.000000000&#x27;, &#x27;2019-12-16T12:00:00.000000000&#x27;],\n",
       "      dtype=&#x27;datetime64[ns]&#x27;)</pre></div></li><li class='xr-var-item'><div class='xr-var-name'><span>time_bnds</span></div><div class='xr-var-dims'>(time, bnds)</div><div class='xr-var-dtype'>datetime64[ns]</div><div class='xr-var-preview xr-preview'>dask.array&lt;chunksize=(12, 2), meta=np.ndarray&gt;</div><input id='attrs-41ee4bed-29eb-4944-a70f-d1fb80bde2d5' class='xr-var-attrs-in' type='checkbox' ><label for='attrs-41ee4bed-29eb-4944-a70f-d1fb80bde2d5' title='Show/Hide attributes'><svg class='icon xr-icon-file-text2'><use xlink:href='#icon-file-text2'></use></svg></label><input id='data-186ca071-47a0-4168-b746-051f7b7a5b41' class='xr-var-data-in' type='checkbox'><label for='data-186ca071-47a0-4168-b746-051f7b7a5b41' title='Show/Hide data repr'><svg class='icon xr-icon-database'><use xlink:href='#icon-database'></use></svg></label><div class='xr-var-attrs'><dl class='xr-attrs'><dt><span>standard_name :</span></dt><dd>time_bnds</dd></dl></div><div class='xr-var-data'><table>\n",
       "    <tr>\n",
       "        <td>\n",
       "            <table style=\"border-collapse: collapse;\">\n",
       "                <thead>\n",
       "                    <tr>\n",
       "                        <td> </td>\n",
       "                        <th> Array </th>\n",
       "                        <th> Chunk </th>\n",
       "                    </tr>\n",
       "                </thead>\n",
       "                <tbody>\n",
       "                    \n",
       "                    <tr>\n",
       "                        <th> Bytes </th>\n",
       "                        <td> 192 B </td>\n",
       "                        <td> 192 B </td>\n",
       "                    </tr>\n",
       "                    \n",
       "                    <tr>\n",
       "                        <th> Shape </th>\n",
       "                        <td> (12, 2) </td>\n",
       "                        <td> (12, 2) </td>\n",
       "                    </tr>\n",
       "                    <tr>\n",
       "                        <th> Dask graph </th>\n",
       "                        <td colspan=\"2\"> 1 chunks in 2 graph layers </td>\n",
       "                    </tr>\n",
       "                    <tr>\n",
       "                        <th> Data type </th>\n",
       "                        <td colspan=\"2\"> datetime64[ns] numpy.ndarray </td>\n",
       "                    </tr>\n",
       "                </tbody>\n",
       "            </table>\n",
       "        </td>\n",
       "        <td>\n",
       "        <svg width=\"91\" height=\"170\" style=\"stroke:rgb(0,0,0);stroke-width:1\" >\n",
       "\n",
       "  <!-- Horizontal lines -->\n",
       "  <line x1=\"0\" y1=\"0\" x2=\"41\" y2=\"0\" style=\"stroke-width:2\" />\n",
       "  <line x1=\"0\" y1=\"120\" x2=\"41\" y2=\"120\" style=\"stroke-width:2\" />\n",
       "\n",
       "  <!-- Vertical lines -->\n",
       "  <line x1=\"0\" y1=\"0\" x2=\"0\" y2=\"120\" style=\"stroke-width:2\" />\n",
       "  <line x1=\"41\" y1=\"0\" x2=\"41\" y2=\"120\" style=\"stroke-width:2\" />\n",
       "\n",
       "  <!-- Colored Rectangle -->\n",
       "  <polygon points=\"0.0,0.0 41.20382942136741,0.0 41.20382942136741,120.0 0.0,120.0\" style=\"fill:#ECB172A0;stroke-width:0\"/>\n",
       "\n",
       "  <!-- Text -->\n",
       "  <text x=\"20.601915\" y=\"140.000000\" font-size=\"1.0rem\" font-weight=\"100\" text-anchor=\"middle\" >2</text>\n",
       "  <text x=\"61.203829\" y=\"60.000000\" font-size=\"1.0rem\" font-weight=\"100\" text-anchor=\"middle\" transform=\"rotate(0,61.203829,60.000000)\">12</text>\n",
       "</svg>\n",
       "        </td>\n",
       "    </tr>\n",
       "</table></div></li><li class='xr-var-item'><div class='xr-var-name'><span class='xr-has-index'>vegetation_class</span></div><div class='xr-var-dims'>(vegetation_class)</div><div class='xr-var-dtype'>int32</div><div class='xr-var-preview xr-preview'>10 20 30 40 50 ... 150 160 170 180</div><input id='attrs-3ac9c072-d408-4a3c-871c-98a84406ddac' class='xr-var-attrs-in' type='checkbox' ><label for='attrs-3ac9c072-d408-4a3c-871c-98a84406ddac' title='Show/Hide attributes'><svg class='icon xr-icon-file-text2'><use xlink:href='#icon-file-text2'></use></svg></label><input id='data-1328edf3-7a58-461b-a29c-1c4e000168a4' class='xr-var-data-in' type='checkbox'><label for='data-1328edf3-7a58-461b-a29c-1c4e000168a4' title='Show/Hide data repr'><svg class='icon xr-icon-database'><use xlink:href='#icon-database'></use></svg></label><div class='xr-var-attrs'><dl class='xr-attrs'><dt><span>units :</span></dt><dd>1</dd><dt><span>long_name :</span></dt><dd>vegetation class number</dd><dt><span>orig_data_type :</span></dt><dd>int32</dd><dt><span>fill_value :</span></dt><dd>9223372036854775807</dd><dt><span>size :</span></dt><dd>18</dd><dt><span>shape :</span></dt><dd>[18]</dd><dt><span>chunk_sizes :</span></dt><dd>[18]</dd><dt><span>file_chunk_sizes :</span></dt><dd>[18]</dd><dt><span>data_type :</span></dt><dd>int64</dd><dt><span>dimensions :</span></dt><dd>[&#x27;vegetation_class&#x27;]</dd><dt><span>file_dimensions :</span></dt><dd>[&#x27;vegetation_class&#x27;]</dd></dl></div><div class='xr-var-data'><pre>array([ 10,  20,  30,  40,  50,  60,  70,  80,  90, 100, 110, 120, 130, 140,\n",
       "       150, 160, 170, 180], dtype=int32)</pre></div></li></ul></div></li><li class='xr-section-item'><input id='section-a4ceedb0-7767-48f5-9950-5fe9bcf07748' class='xr-section-summary-in' type='checkbox'  checked><label for='section-a4ceedb0-7767-48f5-9950-5fe9bcf07748' class='xr-section-summary' >Data variables: <span>(1)</span></label><div class='xr-section-inline-details'></div><div class='xr-section-details'><ul class='xr-var-list'><li class='xr-var-item'><div class='xr-var-name'><span>burned_area</span></div><div class='xr-var-dims'>(time, lat, lon)</div><div class='xr-var-dtype'>float32</div><div class='xr-var-preview xr-preview'>dask.array&lt;chunksize=(1, 360, 1440), meta=np.ndarray&gt;</div><input id='attrs-38d04a10-6b62-433b-bb1b-d95254d5019c' class='xr-var-attrs-in' type='checkbox' ><label for='attrs-38d04a10-6b62-433b-bb1b-d95254d5019c' title='Show/Hide attributes'><svg class='icon xr-icon-file-text2'><use xlink:href='#icon-file-text2'></use></svg></label><input id='data-9466fe14-d01b-4519-bc52-bff1f9c38a5d' class='xr-var-data-in' type='checkbox'><label for='data-9466fe14-d01b-4519-bc52-bff1f9c38a5d' title='Show/Hide data repr'><svg class='icon xr-icon-database'><use xlink:href='#icon-database'></use></svg></label><div class='xr-var-attrs'><dl class='xr-attrs'><dt><span>units :</span></dt><dd>m2</dd><dt><span>standard_name :</span></dt><dd>burned_area</dd><dt><span>long_name :</span></dt><dd>total burned_area</dd><dt><span>valid_range :</span></dt><dd>[0.0, 769314620.0]</dd><dt><span>cell_methods :</span></dt><dd>time: sum</dd><dt><span>orig_data_type :</span></dt><dd>float32</dd><dt><span>fill_value :</span></dt><dd>nan</dd><dt><span>size :</span></dt><dd>12441600</dd><dt><span>shape :</span></dt><dd>[12, 720, 1440]</dd><dt><span>chunk_sizes :</span></dt><dd>[1, 360, 1440]</dd><dt><span>file_chunk_sizes :</span></dt><dd>[1, 360, 1440]</dd><dt><span>data_type :</span></dt><dd>float32</dd><dt><span>dimensions :</span></dt><dd>[&#x27;time&#x27;, &#x27;lat&#x27;, &#x27;lon&#x27;]</dd><dt><span>file_dimensions :</span></dt><dd>[&#x27;time&#x27;, &#x27;lat&#x27;, &#x27;lon&#x27;]</dd></dl></div><div class='xr-var-data'><table>\n",
       "    <tr>\n",
       "        <td>\n",
       "            <table style=\"border-collapse: collapse;\">\n",
       "                <thead>\n",
       "                    <tr>\n",
       "                        <td> </td>\n",
       "                        <th> Array </th>\n",
       "                        <th> Chunk </th>\n",
       "                    </tr>\n",
       "                </thead>\n",
       "                <tbody>\n",
       "                    \n",
       "                    <tr>\n",
       "                        <th> Bytes </th>\n",
       "                        <td> 47.46 MiB </td>\n",
       "                        <td> 1.98 MiB </td>\n",
       "                    </tr>\n",
       "                    \n",
       "                    <tr>\n",
       "                        <th> Shape </th>\n",
       "                        <td> (12, 720, 1440) </td>\n",
       "                        <td> (1, 360, 1440) </td>\n",
       "                    </tr>\n",
       "                    <tr>\n",
       "                        <th> Dask graph </th>\n",
       "                        <td colspan=\"2\"> 24 chunks in 2 graph layers </td>\n",
       "                    </tr>\n",
       "                    <tr>\n",
       "                        <th> Data type </th>\n",
       "                        <td colspan=\"2\"> float32 numpy.ndarray </td>\n",
       "                    </tr>\n",
       "                </tbody>\n",
       "            </table>\n",
       "        </td>\n",
       "        <td>\n",
       "        <svg width=\"194\" height=\"124\" style=\"stroke:rgb(0,0,0);stroke-width:1\" >\n",
       "\n",
       "  <!-- Horizontal lines -->\n",
       "  <line x1=\"10\" y1=\"0\" x2=\"24\" y2=\"14\" style=\"stroke-width:2\" />\n",
       "  <line x1=\"10\" y1=\"30\" x2=\"24\" y2=\"44\" />\n",
       "  <line x1=\"10\" y1=\"60\" x2=\"24\" y2=\"74\" style=\"stroke-width:2\" />\n",
       "\n",
       "  <!-- Vertical lines -->\n",
       "  <line x1=\"10\" y1=\"0\" x2=\"10\" y2=\"60\" style=\"stroke-width:2\" />\n",
       "  <line x1=\"11\" y1=\"1\" x2=\"11\" y2=\"61\" />\n",
       "  <line x1=\"12\" y1=\"2\" x2=\"12\" y2=\"62\" />\n",
       "  <line x1=\"13\" y1=\"3\" x2=\"13\" y2=\"63\" />\n",
       "  <line x1=\"14\" y1=\"4\" x2=\"14\" y2=\"64\" />\n",
       "  <line x1=\"16\" y1=\"6\" x2=\"16\" y2=\"66\" />\n",
       "  <line x1=\"17\" y1=\"7\" x2=\"17\" y2=\"67\" />\n",
       "  <line x1=\"18\" y1=\"8\" x2=\"18\" y2=\"68\" />\n",
       "  <line x1=\"19\" y1=\"9\" x2=\"19\" y2=\"69\" />\n",
       "  <line x1=\"21\" y1=\"11\" x2=\"21\" y2=\"71\" />\n",
       "  <line x1=\"22\" y1=\"12\" x2=\"22\" y2=\"72\" />\n",
       "  <line x1=\"23\" y1=\"13\" x2=\"23\" y2=\"73\" />\n",
       "  <line x1=\"24\" y1=\"14\" x2=\"24\" y2=\"74\" style=\"stroke-width:2\" />\n",
       "\n",
       "  <!-- Colored Rectangle -->\n",
       "  <polygon points=\"10.0,0.0 24.9485979497544,14.948597949754403 24.9485979497544,74.9485979497544 10.0,60.0\" style=\"fill:#ECB172A0;stroke-width:0\"/>\n",
       "\n",
       "  <!-- Horizontal lines -->\n",
       "  <line x1=\"10\" y1=\"0\" x2=\"130\" y2=\"0\" style=\"stroke-width:2\" />\n",
       "  <line x1=\"11\" y1=\"1\" x2=\"131\" y2=\"1\" />\n",
       "  <line x1=\"12\" y1=\"2\" x2=\"132\" y2=\"2\" />\n",
       "  <line x1=\"13\" y1=\"3\" x2=\"133\" y2=\"3\" />\n",
       "  <line x1=\"14\" y1=\"4\" x2=\"134\" y2=\"4\" />\n",
       "  <line x1=\"16\" y1=\"6\" x2=\"136\" y2=\"6\" />\n",
       "  <line x1=\"17\" y1=\"7\" x2=\"137\" y2=\"7\" />\n",
       "  <line x1=\"18\" y1=\"8\" x2=\"138\" y2=\"8\" />\n",
       "  <line x1=\"19\" y1=\"9\" x2=\"139\" y2=\"9\" />\n",
       "  <line x1=\"21\" y1=\"11\" x2=\"141\" y2=\"11\" />\n",
       "  <line x1=\"22\" y1=\"12\" x2=\"142\" y2=\"12\" />\n",
       "  <line x1=\"23\" y1=\"13\" x2=\"143\" y2=\"13\" />\n",
       "  <line x1=\"24\" y1=\"14\" x2=\"144\" y2=\"14\" style=\"stroke-width:2\" />\n",
       "\n",
       "  <!-- Vertical lines -->\n",
       "  <line x1=\"10\" y1=\"0\" x2=\"24\" y2=\"14\" style=\"stroke-width:2\" />\n",
       "  <line x1=\"130\" y1=\"0\" x2=\"144\" y2=\"14\" style=\"stroke-width:2\" />\n",
       "\n",
       "  <!-- Colored Rectangle -->\n",
       "  <polygon points=\"10.0,0.0 130.0,0.0 144.9485979497544,14.948597949754403 24.9485979497544,14.948597949754403\" style=\"fill:#ECB172A0;stroke-width:0\"/>\n",
       "\n",
       "  <!-- Horizontal lines -->\n",
       "  <line x1=\"24\" y1=\"14\" x2=\"144\" y2=\"14\" style=\"stroke-width:2\" />\n",
       "  <line x1=\"24\" y1=\"44\" x2=\"144\" y2=\"44\" />\n",
       "  <line x1=\"24\" y1=\"74\" x2=\"144\" y2=\"74\" style=\"stroke-width:2\" />\n",
       "\n",
       "  <!-- Vertical lines -->\n",
       "  <line x1=\"24\" y1=\"14\" x2=\"24\" y2=\"74\" style=\"stroke-width:2\" />\n",
       "  <line x1=\"144\" y1=\"14\" x2=\"144\" y2=\"74\" style=\"stroke-width:2\" />\n",
       "\n",
       "  <!-- Colored Rectangle -->\n",
       "  <polygon points=\"24.9485979497544,14.948597949754403 144.9485979497544,14.948597949754403 144.9485979497544,74.9485979497544 24.9485979497544,74.9485979497544\" style=\"fill:#ECB172A0;stroke-width:0\"/>\n",
       "\n",
       "  <!-- Text -->\n",
       "  <text x=\"84.948598\" y=\"94.948598\" font-size=\"1.0rem\" font-weight=\"100\" text-anchor=\"middle\" >1440</text>\n",
       "  <text x=\"164.948598\" y=\"44.948598\" font-size=\"1.0rem\" font-weight=\"100\" text-anchor=\"middle\" transform=\"rotate(-90,164.948598,44.948598)\">720</text>\n",
       "  <text x=\"7.474299\" y=\"87.474299\" font-size=\"1.0rem\" font-weight=\"100\" text-anchor=\"middle\" transform=\"rotate(45,7.474299,87.474299)\">12</text>\n",
       "</svg>\n",
       "        </td>\n",
       "    </tr>\n",
       "</table></div></li></ul></div></li><li class='xr-section-item'><input id='section-41ae22b8-e0e8-43b6-8cb6-3dc5611b7e78' class='xr-section-summary-in' type='checkbox'  ><label for='section-41ae22b8-e0e8-43b6-8cb6-3dc5611b7e78' class='xr-section-summary' >Indexes: <span>(4)</span></label><div class='xr-section-inline-details'></div><div class='xr-section-details'><ul class='xr-var-list'><li class='xr-var-item'><div class='xr-index-name'><div>lat</div></div><div class='xr-index-preview'>PandasIndex</div><div></div><input id='index-113b5e87-8738-4ecc-b548-7c8fe906ed80' class='xr-index-data-in' type='checkbox'/><label for='index-113b5e87-8738-4ecc-b548-7c8fe906ed80' title='Show/Hide index repr'><svg class='icon xr-icon-database'><use xlink:href='#icon-database'></use></svg></label><div class='xr-index-data'><pre>PandasIndex(Float64Index([ 89.875,  89.625,  89.375,  89.125,  88.875,  88.625,  88.375,\n",
       "               88.125,  87.875,  87.625,\n",
       "              ...\n",
       "              -87.625, -87.875, -88.125, -88.375, -88.625, -88.875, -89.125,\n",
       "              -89.375, -89.625, -89.875],\n",
       "             dtype=&#x27;float64&#x27;, name=&#x27;lat&#x27;, length=720))</pre></div></li><li class='xr-var-item'><div class='xr-index-name'><div>lon</div></div><div class='xr-index-preview'>PandasIndex</div><div></div><input id='index-05c7b5b2-d1f7-4cf3-8ee3-f9ba4e5d846d' class='xr-index-data-in' type='checkbox'/><label for='index-05c7b5b2-d1f7-4cf3-8ee3-f9ba4e5d846d' title='Show/Hide index repr'><svg class='icon xr-icon-database'><use xlink:href='#icon-database'></use></svg></label><div class='xr-index-data'><pre>PandasIndex(Float64Index([-179.875, -179.625, -179.375, -179.125, -178.875, -178.625,\n",
       "              -178.375, -178.125, -177.875, -177.625,\n",
       "              ...\n",
       "               177.625,  177.875,  178.125,  178.375,  178.625,  178.875,\n",
       "               179.125,  179.375,  179.625,  179.875],\n",
       "             dtype=&#x27;float64&#x27;, name=&#x27;lon&#x27;, length=1440))</pre></div></li><li class='xr-var-item'><div class='xr-index-name'><div>time</div></div><div class='xr-index-preview'>PandasIndex</div><div></div><input id='index-b0e125d4-0659-40af-afdc-eff808101e92' class='xr-index-data-in' type='checkbox'/><label for='index-b0e125d4-0659-40af-afdc-eff808101e92' title='Show/Hide index repr'><svg class='icon xr-icon-database'><use xlink:href='#icon-database'></use></svg></label><div class='xr-index-data'><pre>PandasIndex(DatetimeIndex([&#x27;2019-01-16 12:00:00&#x27;, &#x27;2019-02-15 00:00:00&#x27;,\n",
       "               &#x27;2019-03-16 12:00:00&#x27;, &#x27;2019-04-16 00:00:00&#x27;,\n",
       "               &#x27;2019-05-16 12:00:00&#x27;, &#x27;2019-06-16 00:00:00&#x27;,\n",
       "               &#x27;2019-07-16 12:00:00&#x27;, &#x27;2019-08-16 12:00:00&#x27;,\n",
       "               &#x27;2019-09-16 00:00:00&#x27;, &#x27;2019-10-16 12:00:00&#x27;,\n",
       "               &#x27;2019-11-16 00:00:00&#x27;, &#x27;2019-12-16 12:00:00&#x27;],\n",
       "              dtype=&#x27;datetime64[ns]&#x27;, name=&#x27;time&#x27;, freq=None))</pre></div></li><li class='xr-var-item'><div class='xr-index-name'><div>vegetation_class</div></div><div class='xr-index-preview'>PandasIndex</div><div></div><input id='index-5aa46b30-4ae4-485e-b440-71f45d6eb15f' class='xr-index-data-in' type='checkbox'/><label for='index-5aa46b30-4ae4-485e-b440-71f45d6eb15f' title='Show/Hide index repr'><svg class='icon xr-icon-database'><use xlink:href='#icon-database'></use></svg></label><div class='xr-index-data'><pre>PandasIndex(Int64Index([10, 20, 30, 40, 50, 60, 70, 80, 90, 100, 110, 120, 130, 140, 150,\n",
       "            160, 170, 180],\n",
       "           dtype=&#x27;int64&#x27;, name=&#x27;vegetation_class&#x27;))</pre></div></li></ul></div></li><li class='xr-section-item'><input id='section-03491c2f-ad90-4ded-be89-23da729a2b9e' class='xr-section-summary-in' type='checkbox'  checked><label for='section-03491c2f-ad90-4ded-be89-23da729a2b9e' class='xr-section-summary' >Attributes: <span>(8)</span></label><div class='xr-section-inline-details'></div><div class='xr-section-details'><dl class='xr-attrs'><dt><span>Conventions :</span></dt><dd>CF-1.7</dd><dt><span>title :</span></dt><dd>esacci.FIRE.mon.L4.BA.multi-sensor.multi-platform.SYN.v1-0.grid</dd><dt><span>date_created :</span></dt><dd>2023-01-19T16:47:00.186142</dd><dt><span>processing_level :</span></dt><dd>L4</dd><dt><span>time_coverage_start :</span></dt><dd>2019-01-01T00:00:00</dd><dt><span>time_coverage_end :</span></dt><dd>2020-01-01T00:00:00</dd><dt><span>time_coverage_duration :</span></dt><dd>P365DT0H0M0S</dd><dt><span>history :</span></dt><dd>[{&#x27;program&#x27;: &#x27;xcube_cci.chunkstore.CciChunkStore&#x27;, &#x27;cube_params&#x27;: {&#x27;variable_names&#x27;: [&#x27;burned_area&#x27;], &#x27;time_range&#x27;: [&#x27;2019-01-01T00:00:00&#x27;, &#x27;2019-12-31T23:59:59&#x27;]}}]</dd></dl></div></li></ul></div></div>"
      ],
      "text/plain": [
       "<xarray.Dataset>\n",
       "Dimensions:           (time: 12, lat: 720, lon: 1440, bounds: 2, bnds: 2,\n",
       "                       vegetation_class: 18)\n",
       "Coordinates:\n",
       "  * lat               (lat) float64 89.88 89.62 89.38 ... -89.38 -89.62 -89.88\n",
       "    lat_bounds        (lat, bounds) float64 dask.array<chunksize=(720, 2), meta=np.ndarray>\n",
       "  * lon               (lon) float64 -179.9 -179.6 -179.4 ... 179.4 179.6 179.9\n",
       "    lon_bounds        (lon, bounds) float64 dask.array<chunksize=(1440, 2), meta=np.ndarray>\n",
       "  * time              (time) datetime64[ns] 2019-01-16T12:00:00 ... 2019-12-1...\n",
       "    time_bnds         (time, bnds) datetime64[ns] dask.array<chunksize=(12, 2), meta=np.ndarray>\n",
       "  * vegetation_class  (vegetation_class) int32 10 20 30 40 ... 150 160 170 180\n",
       "Dimensions without coordinates: bounds, bnds\n",
       "Data variables:\n",
       "    burned_area       (time, lat, lon) float32 dask.array<chunksize=(1, 360, 1440), meta=np.ndarray>\n",
       "Attributes:\n",
       "    Conventions:             CF-1.7\n",
       "    title:                   esacci.FIRE.mon.L4.BA.multi-sensor.multi-platfor...\n",
       "    date_created:            2023-01-19T16:47:00.186142\n",
       "    processing_level:        L4\n",
       "    time_coverage_start:     2019-01-01T00:00:00\n",
       "    time_coverage_end:       2020-01-01T00:00:00\n",
       "    time_coverage_duration:  P365DT0H0M0S\n",
       "    history:                 [{'program': 'xcube_cci.chunkstore.CciChunkStore..."
      ]
     },
     "execution_count": 14,
     "metadata": {},
     "output_type": "execute_result"
    }
   ],
   "source": [
    "ba_dataset = odp_store.open_data('esacci.FIRE.mon.L4.BA.multi-sensor.multi-platform.SYN.v1-0.grid', variable_names=[\"burned_area\"])\n",
    "ba_dataset"
   ]
  },
  {
   "cell_type": "code",
   "execution_count": 18,
   "id": "88a704bc-0cd9-45fe-9c00-0d83db0c30ae",
   "metadata": {},
   "outputs": [
    {
     "data": {
      "text/plain": [
       "<matplotlib.image.AxesImage at 0x7f8435e74c70>"
      ]
     },
     "execution_count": 18,
     "metadata": {},
     "output_type": "execute_result"
    },
    {
     "data": {
      "image/png": "[encoded data removed]",
      "text/plain": [
       "<Figure size 640x480 with 2 Axes>"
      ]
     },
     "metadata": {},
     "output_type": "display_data"
    }
   ],
   "source": [
    "ba_dataset.burned_area.isel(time=0).plot.imshow(vmax=2)"
   ]
  },
  {
   "cell_type": "code",
   "execution_count": null,
   "id": "952f4616-4a87-4119-b451-16c274866329",
   "metadata": {},
   "outputs": [],
   "source": []
  }
 ],
 "metadata": {
  "kernelspec": {
   "display_name": "Python 3 (ipykernel)",
   "language": "python",
   "name": "python3"
  },
  "language_info": {
   "codemirror_mode": {
    "name": "ipython",
    "version": 3
   },
   "file_extension": ".py",
   "mimetype": "text/x-python",
   "name": "python",
   "nbconvert_exporter": "python",
   "pygments_lexer": "ipython3",
   "version": "3.9.13"
  }
 },
 "nbformat": 4,
 "nbformat_minor": 5
}
